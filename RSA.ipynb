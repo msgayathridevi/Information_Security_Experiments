{
  "cells": [
    {
      "cell_type": "code",
      "execution_count": 4,
      "metadata": {
        "colab": {
          "base_uri": "https://localhost:8080/"
        },
        "id": "AOswlXBbsv7Z",
        "outputId": "b34f4c0e-d3d2-4395-cfe9-1da135eb5bf9"
      },
      "outputs": [
        {
          "name": "stdout",
          "output_type": "stream",
          "text": [
            "Message data =  18\n"
          ]
        }
      ],
      "source": [
        "import math\n",
        " \n",
        "def gcd(a, h):\n",
        "    temp = 0\n",
        "    while(1):\n",
        "        temp = a % h\n",
        "        if (temp == 0):\n",
        "            return h\n",
        "        a = h\n",
        "        h = temp\n",
        " \n",
        "p = int(input(\"p : \"))\n",
        "q = int(input(\"q : \"))\n",
        "n = p*q\n",
        "e = int(input(\"e : \"))\n",
        "phi = (p-1)*(q-1)\n",
        " \n",
        "while (e < phi):\n",
        " \n",
        "    if(gcd(e, phi) == 1):\n",
        "        break\n",
        "    else:\n",
        "        e = e+1\n",
        " \n",
        "k = 2\n",
        "d = (1 + (k*phi))/e\n",
        " \n",
        "# Message to be encrypted\n",
        "msg = int(input(\"msg : \"))\n",
        " \n",
        "print(\"Message data = \", msg)"
      ]
    },
    {
      "cell_type": "code",
      "execution_count": 5,
      "metadata": {
        "id": "3dobUm4uHO7v"
      },
      "outputs": [
        {
          "name": "stdout",
          "output_type": "stream",
          "text": [
            "Encryption\n",
            "Encrypted data =  2.0\n",
            "----------------------------\n",
            "Decryption\n",
            "Original Message Sent =  18.0\n"
          ]
        }
      ],
      "source": [
        "# 5 11 3 18\n",
        "\n",
        "# Encryption c = (msg ^ e) % n\n",
        "c = pow(msg, e)\n",
        "c = math.fmod(c, n)\n",
        "print(\"Encryption\")\n",
        "print(\"Encrypted data = \", c)\n",
        " \n",
        "print(\"----------------------------\") \n",
        "\n",
        "# Decryption m = (c ^ d) % n\n",
        "m = pow(c, d)\n",
        "m = math.fmod(m, n)\n",
        "print(\"Decryption\")\n",
        "print(\"Original Message Sent = \", m)"
      ]
    },
    {
      "cell_type": "code",
      "execution_count": null,
      "metadata": {},
      "outputs": [],
      "source": []
    }
  ],
  "metadata": {
    "colab": {
      "provenance": []
    },
    "kernelspec": {
      "display_name": "Python 3",
      "name": "python3"
    },
    "language_info": {
      "name": "python",
      "version": "3.11.0"
    }
  },
  "nbformat": 4,
  "nbformat_minor": 0
}
