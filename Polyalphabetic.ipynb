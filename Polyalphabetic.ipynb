{
  "cells": [
    {
      "cell_type": "code",
      "execution_count": 1,
      "metadata": {
        "colab": {
          "base_uri": "https://localhost:8080/"
        },
        "id": "31iQzQkgt7bC",
        "outputId": "2124d73e-2ec1-40ca-d776-05f95749042e"
      },
      "outputs": [],
      "source": [
        "stri=input(\"Plain Text : \").upper()\n",
        "key=input(\"Key : \").upper()"
      ]
    },
    {
      "cell_type": "code",
      "execution_count": 2,
      "metadata": {
        "id": "vUMpQr0JuK6_"
      },
      "outputs": [],
      "source": [
        "# iterate/loop till len(key) = len(stri)\n",
        "def genkey(stri,key): \n",
        "  for i in range(len(stri)):\n",
        "    if(len(key)==len(stri)):\n",
        "      break;\n",
        "    key+=key[i]\n",
        "  return key"
      ]
    },
    {
      "cell_type": "code",
      "execution_count": 3,
      "metadata": {
        "id": "z6Shf0byul7h"
      },
      "outputs": [],
      "source": [
        "dum='A'\n",
        "def encrypt(stri,key):\n",
        "  cipher_text=\"\"\n",
        "  for i in range(len(stri)):\n",
        "    x=(ord(stri[i])+ord(key[i])) %26\n",
        "    x+=ord(dum)\n",
        "    cipher_text+=(chr)(x);\n",
        "  return cipher_text\n"
      ]
    },
    {
      "cell_type": "code",
      "execution_count": 4,
      "metadata": {
        "id": "N0qNmmMevZYB"
      },
      "outputs": [],
      "source": [
        "dum='A'\n",
        "def decrypt(cipher_text,key):\n",
        "  plain_text=\"\"\n",
        "  i=0\n",
        "  while i<len(cipher_text) and i<len(key):\n",
        "    x= (ord(cipher_text[i])-ord(key[i]) +26) % 26\n",
        "    x+=ord(dum)\n",
        "    plain_text+=(chr)(x)\n",
        "    i=i+1\n",
        "  return plain_text\n"
      ]
    },
    {
      "cell_type": "code",
      "execution_count": 5,
      "metadata": {
        "colab": {
          "base_uri": "https://localhost:8080/"
        },
        "id": "pm9ulu4Bxwp6",
        "outputId": "e2f46432-4e9e-4fd4-df5c-af0f21670c76"
      },
      "outputs": [
        {
          "name": "stdout",
          "output_type": "stream",
          "text": [
            "DEVIDEVI\n",
            "Cipher :  JETIWLMQ\n",
            "----------------\n",
            "Decryption \n",
            "Plain Text :  GAYATHRI\n"
          ]
        }
      ],
      "source": [
        "key=genkey(stri,key)\n",
        "print(key)\n",
        "cipher=encrypt(stri,key)\n",
        "print(\"Cipher : \",cipher)\n",
        "print(\"----------------\")\n",
        "print(\"Decryption \")\n",
        "print(\"Plain Text : \",decrypt(cipher,key))"
      ]
    },
    {
      "cell_type": "code",
      "execution_count": 8,
      "metadata": {},
      "outputs": [],
      "source": [
        "# method 2"
      ]
    },
    {
      "cell_type": "code",
      "execution_count": 11,
      "metadata": {},
      "outputs": [
        {
          "name": "stdout",
          "output_type": "stream",
          "text": [
            "The encryption is: qmlwitej \n",
            "The decryption is:  gayathri\n"
          ]
        }
      ],
      "source": [
        "alphabet = ['a', 'b', 'c', 'd', 'e', 'f', 'g', 'h', 'i', 'j', \n",
        "            'k', 'l', 'm', 'n', 'o', 'p', 'q', 'r', 's', 't', \n",
        "            'u', 'v', 'w', 'x', 'y', 'z']\n",
        "\n",
        "def polyalphabetic():\n",
        "\n",
        "  message = input(\"Msg: \")\n",
        "  password = input(\"password: \")\n",
        "  password = password*len(message)\n",
        "  cipher_text = ''\n",
        "  count = 0\n",
        "  for i in message:\n",
        "    shift = alphabet.index(password[count])\n",
        "    letter_index = alphabet.index(i)\n",
        "    cipher_letter = alphabet[(letter_index + shift)%26]\n",
        "    cipher_text = cipher_letter + cipher_text\n",
        "    count = count+1\n",
        "\n",
        "  return print(f\"The encryption is: {cipher_text} \\nThe decryption is: \", message)\n",
        "\n",
        "polyalphabetic()"
      ]
    },
    {
      "cell_type": "code",
      "execution_count": 9,
      "metadata": {},
      "outputs": [],
      "source": [
        "# method 3"
      ]
    },
    {
      "cell_type": "code",
      "execution_count": 13,
      "metadata": {},
      "outputs": [
        {
          "name": "stdout",
          "output_type": "stream",
          "text": [
            "New text:  JFFJWMYRGJCR\n",
            "Plain text:  gayathridevi\n"
          ]
        }
      ],
      "source": [
        "import string\n",
        "\n",
        "letters = string.ascii_uppercase\n",
        "plane_text = input(\"Enter a text you want to enc: \").upper()\n",
        "num_keys = input(\"Enter an number of keys: \")\n",
        "\n",
        "block_size = int(num_keys)\n",
        "new_text = \"\"\n",
        "for indx in range(0,len(plane_text),block_size) :\n",
        "    letter = plane_text[indx]\n",
        "    for key_num in range(block_size):\n",
        "        if indx+key_num >= len(plane_text): break\n",
        "        shift_size = letters.index(plane_text[indx+key_num]) + (key_num+1)*2 +1\n",
        "        if shift_size >= len(letters): shift_size = shift_size - len(letters)\n",
        "        letter_new_indx = letters[shift_size]\n",
        "        new_text = new_text + letter_new_indx\n",
        "\n",
        "print(\"New text: \",new_text)\n",
        "print(\"Plain text: \",plane_text.lower())\n"
      ]
    },
    {
      "cell_type": "code",
      "execution_count": null,
      "metadata": {},
      "outputs": [],
      "source": []
    }
  ],
  "metadata": {
    "colab": {
      "provenance": []
    },
    "kernelspec": {
      "display_name": "Python 3",
      "name": "python3"
    },
    "language_info": {
      "codemirror_mode": {
        "name": "ipython",
        "version": 3
      },
      "file_extension": ".py",
      "mimetype": "text/x-python",
      "name": "python",
      "nbconvert_exporter": "python",
      "pygments_lexer": "ipython3",
      "version": "3.11.0"
    }
  },
  "nbformat": 4,
  "nbformat_minor": 0
}
