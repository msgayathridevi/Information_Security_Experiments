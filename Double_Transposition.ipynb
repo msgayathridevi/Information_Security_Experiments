{
  "cells": [
    {
      "cell_type": "code",
      "execution_count": null,
      "metadata": {
        "id": "UOmybaVPjBkV"
      },
      "outputs": [],
      "source": [
        "# method 1 - using hill cypher\n",
        "\n",
        "def fence_pattern(rails, message_size):\n",
        "    r = 2 * (rails - 1)\n",
        "    return sorted(((z % r) if (z % r) < rails else r - (z % r), z) for z in range(message_size))\n",
        "def encode(msg, rails):\n",
        "    return ''.join(msg[i] for _, i in fence_pattern(rails, len(msg)))\n",
        "def decode(msg, rails):\n",
        "    xx = zip(fence_pattern(rails, len(msg)), msg)\n",
        "    return ''.join(ch for _, ch in sorted(xx, key=lambda i: i[0][1]))"
      ]
    },
    {
      "cell_type": "code",
      "execution_count": null,
      "metadata": {
        "colab": {
          "base_uri": "https://localhost:8080/"
        },
        "id": "AF-L5ce4jLhe",
        "outputId": "94a453cb-c706-4238-be52-4f4500f23959"
      },
      "outputs": [
        {
          "name": "stdout",
          "output_type": "stream",
          "text": [
            "Plain Text : gayathridevi\n",
            "Rails : 5\n",
            "Cipher :  gadvhariiyte\n",
            "Cipher : gadvhariiyte\n",
            "Rails : 5\n",
            "Plain Text :  gayathridevi\n"
          ]
        }
      ],
      "source": [
        "pt=input(\"Plain Text : \")\n",
        "rails=int(input(\"Rails : \"))\n",
        "cipher=encode(encode(pt,rails),rails)\n",
        "print(\"Cipher : \",cipher)\n",
        "\n",
        "cipher=input(\"Cipher : \")\n",
        "rails=int(input(\"Rails : \"))\n",
        "\n",
        "\n",
        "pt=decode(decode(cipher,rails),rails)\n",
        "print(\"Plain Text : \", pt)\n",
        "\n"
      ]
    },
    {
      "cell_type": "code",
      "execution_count": null,
      "metadata": {
        "id": "nsxA6kOlm85m"
      },
      "outputs": [],
      "source": []
    }
  ],
  "metadata": {
    "colab": {
      "provenance": []
    },
    "kernelspec": {
      "display_name": "Python 3",
      "name": "python3"
    },
    "language_info": {
      "name": "python"
    }
  },
  "nbformat": 4,
  "nbformat_minor": 0
}
