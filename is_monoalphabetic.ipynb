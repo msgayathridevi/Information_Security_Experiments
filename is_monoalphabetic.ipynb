{
  "cells": [
    {
      "cell_type": "code",
      "execution_count": 23,
      "metadata": {
        "colab": {
          "base_uri": "https://localhost:8080/"
        },
        "id": "PUC3dVW--Mg7",
        "outputId": "1e8e4749-33b7-4010-bf3d-3cf1c25fb705"
      },
      "outputs": [
        {
          "name": "stdout",
          "output_type": "stream",
          "text": [
            "Cipher text encrypted:  zyxwcba\n",
            "Decrypt text:  abcdxyz\n"
          ]
        }
      ],
      "source": [
        "Key = {\n",
        "       \"a\":\"z\", 'b':'y', 'c':'x', 'd':'w', 'e':'v', 'f':'u', 'g':'t', 'h':'s', 'i':'r', 'j':'q', 'k':'p', 'l':'o', 'm':'n', 'n':'m', 'o':'l', 'p':'k', 'q':'j', 'r':'i', 's':'h', 't':'g', 'u':'f', 'v':'e', 'w':'d', 'x':'c', 'y':'b', 'z':'a'\n",
        "  }\n",
        "\n",
        "key_list = list(Key.keys())\n",
        "val_list = list(Key.values())\n",
        "\n",
        "s=''\n",
        "\n",
        "def encrypt(word):\n",
        "  word=word.lower()\n",
        "  ls=[val_list.index(i) for i in word]\n",
        "  ls2=[key_list[j] for j in ls]\n",
        "  return (s.join(ls2))\n",
        "\n",
        "def decrypt(word):\n",
        "  word=word.lower()\n",
        "  ls=[key_list.index(i) for i in word]\n",
        "  ls2=[val_list[j] for j in ls]\n",
        "  return (s.join(ls2))\n",
        "\n",
        "\n",
        "word=input(\"Enter the plain text: \")\n",
        "x=encrypt(word)\n",
        "print(\"Cipher text encrypted: \", x)\n",
        "print(\"Decrypt text: \",decrypt(x))"
      ]
    },
    {
      "cell_type": "code",
      "execution_count": null,
      "metadata": {
        "colab": {
          "base_uri": "https://localhost:8080/"
        },
        "id": "OEVaTsKmAq6E",
        "outputId": "a7694171-27cb-4365-e166-24c178395f04"
      },
      "outputs": [],
      "source": [
        "# methd 2\n",
        "a=input(\"Plain Text : \")\n",
        "a=a.upper()\n",
        "for i in range(len(a)):\n",
        "  if ord(a[i]) < int((65+90)/2):\n",
        "    a=a.replace(a[i],chr(ord(a[i])+13))\n",
        "  else:\n",
        "    a=a.replace(a[i],chr(ord(a[i])-13))\n",
        "print(\"Cipher Text : \",a)"
      ]
    },
    {
      "cell_type": "code",
      "execution_count": null,
      "metadata": {
        "colab": {
          "base_uri": "https://localhost:8080/",
          "height": 53
        },
        "id": "ZJTNVr0HBM9c",
        "outputId": "50684684-d446-43b7-b41b-74046ffdc006"
      },
      "outputs": [],
      "source": [
        "# method 3\n",
        "a=input()\n",
        "print(a)\n",
        "lists={\"a\":\"n\",\"b\":\"o\",\"c\":\"p\",\"d\":\"q\",\"e\":\"r\",\"f\":\"s\",\"g\":\"t\",\"h\":\"u\",\"i\":\"v\",\"j\":\"w\",\"k\":\"x\",\"l\":\"y\",\"m\":\"z\"}\n",
        "lists.items()\n",
        "def get_key(val):\n",
        "    for key, value in lists.items():\n",
        "        if val == value:\n",
        "            return key\n",
        "for i in range(len(a)):\n",
        "  if(lists.get(a[i])):\n",
        "    a=a.replace(a[i],lists[a[i]])\n",
        "  else:\n",
        "    a=a.replace(a[i],get_key(a[i]))  \n",
        "a"
      ]
    }
  ],
  "metadata": {
    "colab": {
      "provenance": []
    },
    "kernelspec": {
      "display_name": "Python 3",
      "name": "python3"
    },
    "language_info": {
      "codemirror_mode": {
        "name": "ipython",
        "version": 3
      },
      "file_extension": ".py",
      "mimetype": "text/x-python",
      "name": "python",
      "nbconvert_exporter": "python",
      "pygments_lexer": "ipython3",
      "version": "3.11.0"
    }
  },
  "nbformat": 4,
  "nbformat_minor": 0
}
