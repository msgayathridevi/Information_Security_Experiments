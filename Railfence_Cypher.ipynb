{
  "cells": [
    {
      "cell_type": "code",
      "execution_count": 2,
      "metadata": {
        "id": "eFbD13IuEKBL"
      },
      "outputs": [],
      "source": [
        "# method 1\n",
        "\n",
        "def fence_pattern(msg,rails):\n",
        "    r = 2 * (rails - 1)\n",
        "    return sorted(((z % r) if (z % r) < rails else r - (z % r), z) for z in range(len(msg)))\n",
        "def encode(msg, rails):\n",
        "    return ''.join(msg[i] for _, i in fence_pattern(msg,rails))\n",
        "def decode(msg, rails):\n",
        "    xx = zip(fence_pattern(msg,rails), msg)\n",
        "    return ''.join(ch for _, ch in sorted(xx, key=lambda i: i[0][1]))"
      ]
    },
    {
      "cell_type": "code",
      "execution_count": 3,
      "metadata": {
        "colab": {
          "base_uri": "https://localhost:8080/"
        },
        "id": "mHJTEaR4krU6",
        "outputId": "8759f718-d349-4617-810f-d67d8e8ed272"
      },
      "outputs": [
        {
          "name": "stdout",
          "output_type": "stream",
          "text": [
            "Cipher :  giyraht\n",
            "Plain Text :  gyathri\n"
          ]
        }
      ],
      "source": [
        "pt=input(\"Plain Text : \")\n",
        "rails=int(input(\"Rails : \"))\n",
        "cipher=encode(pt,rails)\n",
        "print(\"Cipher : \",cipher)\n",
        "\n",
        "cipher=input(\"Cipher : \")\n",
        "rails=int(input(\"Rails : \"))\n",
        "\n",
        "\n",
        "pt=decode(cipher,rails)\n",
        "print(\"Plain Text : \", pt)\n",
        "\n"
      ]
    },
    {
      "cell_type": "code",
      "execution_count": null,
      "metadata": {
        "id": "zccnXj2Elf9C"
      },
      "outputs": [],
      "source": [
        "# method 2\n",
        "\n",
        "def encrf(ip,key):\n",
        "  m=key\n",
        "  v=0\n",
        "  c=[]\n",
        "  mat = [[0 for _ in range(len(ip))] for _ in range(key)]\n",
        "  k,j,v,c=0,0,0,0\n",
        "  # j=0\n",
        "  # v=0\n",
        "  # c=0\n",
        "  for i in range(0,len(ip),2*(key-1)-1):\n",
        "    # print(\"en1\")\n",
        "    while(k<(key-1)and j<len(ip)):\n",
        "      mat[k][j]=ip[j]\n",
        "      j=j+1\n",
        "      k=k+1\n",
        "      # v=v+1\n",
        "      # c=c+1\n",
        "    while(k>0 and j<len(ip)):\n",
        "      mat[k][j]=ip[j]\n",
        "      j=j+1\n",
        "      k=k-1\n",
        "      # v=v+1\n",
        "      # c=c+1\n",
        "  e=\"\"    \n",
        "  for i in range(key):\n",
        "    for j in range(len(ip)):\n",
        "      if(mat[i][j]!=0):\n",
        "        e+=mat[i][j] \n",
        "  return e      \n"
      ]
    },
    {
      "cell_type": "code",
      "execution_count": null,
      "metadata": {
        "id": "_BILhniwlf_r"
      },
      "outputs": [],
      "source": [
        "def decrf(ip,key):\n",
        "  m=key\n",
        "  d=\"\"\n",
        "  v=0\n",
        "  c=[]\n",
        "  mat = [[0 for _ in range(len(ip))] for _ in range(key)]\n",
        "  k=0\n",
        "  j=0\n",
        "  # v=0\n",
        "  # c=0\n",
        "  for i in range(0,len(ip),2*(key-1)-1):\n",
        "    # print(\"en1\")\n",
        "    while(k<(key-1)and j<len(ip)):\n",
        "      mat[k][j]=\"a\"\n",
        "      j=j+1\n",
        "      k=k+1\n",
        "      # v=v+1\n",
        "      # c=c+1\n",
        "    while(k>0 and j<len(ip)):\n",
        "      mat[k][j]=\"a\"\n",
        "      j=j+1\n",
        "      k=k-1\n",
        "      # v=v+1\n",
        "      # c=c+1\n",
        "  x=0 \n",
        "\n",
        "  for i in range(key):\n",
        "    for j in range(len(ip)):\n",
        "      if(mat[i][j]!=0):\n",
        "        mat[i][j]=ip[x]  \n",
        "        x=x+1  \n",
        "  k=0\n",
        "  j=0\n",
        "  # v=0\n",
        "  # c=0         \n",
        "  for i in range(0,len(ip),2*(key-1)-1):\n",
        "    # print(\"en1\")\n",
        "    while(k<(key-1)and j<len(ip)):\n",
        "      d+=mat[k][j]\n",
        "      j=j+1\n",
        "      k=k+1\n",
        "      # v=v+1\n",
        "      # c=c+1\n",
        "    while(k>0 and j<len(ip)):\n",
        "      d+=mat[k][j]\n",
        "      j=j+1\n",
        "      k=k-1\n",
        "      # v=v+1\n",
        "      # c=c+1    \n",
        "  return d     \n",
        "\n"
      ]
    },
    {
      "cell_type": "code",
      "execution_count": null,
      "metadata": {
        "colab": {
          "base_uri": "https://localhost:8080/",
          "height": 53
        },
        "id": "5PQZuP3Bmo7s",
        "outputId": "2031fa57-cb49-4755-dbdd-bc7f22ff438e"
      },
      "outputs": [
        {
          "name": "stdout",
          "output_type": "stream",
          "text": [
            "-------------\n"
          ]
        },
        {
          "data": {
            "application/vnd.google.colaboratory.intrinsic+json": {
              "type": "string"
            },
            "text/plain": [
              "'transposition'"
            ]
          },
          "execution_count": 6,
          "metadata": {},
          "output_type": "execute_result"
        }
      ],
      "source": [
        "ip=\"transposition\"\n",
        "key=3\n",
        "encrf(ip,key)\n",
        "print(\"-------------\")\n",
        "decrf(\"tsinrnpstoaoi\",3)"
      ]
    },
    {
      "cell_type": "code",
      "execution_count": null,
      "metadata": {
        "colab": {
          "base_uri": "https://localhost:8080/"
        },
        "id": "lbD9YTfgHkZ3",
        "outputId": "1bb5f8cc-ed2f-49a9-f6e1-a4843d611b9c"
      },
      "outputs": [
        {
          "name": "stdout",
          "output_type": "stream",
          "text": [
            "[(0, 0), (0, 4), (1, 1), (1, 3), (1, 5), (1, 7), (2, 2), (2, 6)]\n"
          ]
        }
      ],
      "source": [
        "# final methodology function\n",
        "def fence_pattern2(message_size,rails):\n",
        "    p=[]\n",
        "    q=()\n",
        "    r = 2 * (rails - 1)\n",
        "    for z in range(message_size):\n",
        "      if (z % r) < rails:\n",
        "        q=(z%r, z)\n",
        "        p.append(q)\n",
        "      else:\n",
        "        q=(r - (z % r), z)\n",
        "        p.append(q)\n",
        "      # p.append(z)\n",
        "    print(sorted(p))\n",
        "    return p.sort()\n",
        "    # p=p.sorted()\n",
        "\n",
        "def decode(msg, rails):\n",
        "    xx = zip(fence_pattern(rails, len(msg)), msg)\n",
        "    return ''.join(ch for _, ch in sorted(xx, key=lambda i: i[0][1]))\n",
        "\n",
        "def encode(msg, rails):\n",
        "   return ''.join(msg[i] for _, i in fence_pattern2(rails, len(msg)))\n",
        "fence_pattern2(len(\"gayathri\"),3)\n"
      ]
    },
    {
      "cell_type": "code",
      "execution_count": null,
      "metadata": {
        "colab": {
          "base_uri": "https://localhost:8080/"
        },
        "id": "hr6W1rjJus1r",
        "outputId": "ed545284-e56f-4659-d2a5-389c60ccdb4d"
      },
      "outputs": [
        {
          "name": "stdout",
          "output_type": "stream",
          "text": [
            "g\n",
            "ga\n",
            "gar\n",
            "gara\n",
            "garat\n",
            "garati\n",
            "garatiy\n",
            "garatiyh\n",
            "garatiyh\n",
            "gtaahiyr\n"
          ]
        }
      ],
      "source": [
        "# tries \n",
        "\n",
        "def encrypt(text,key):\n",
        "  cipher_txt=\"\"\n",
        "  j=0\n",
        "  for i in range(key):\n",
        "    # print(i)\n",
        "    for j in range(i,len(text),key):\n",
        "      cipher_txt+=text[j]\n",
        "      \n",
        "      print(cipher_txt)\n",
        "\n",
        "  print(cipher_txt)\n",
        "encrypt(\"gayathri\",3)\n",
        "\n",
        "def encrypt(text,key):\n",
        "  cipher_txt=\"\"\n",
        "  k=2*(key-1)\n",
        "  for i in range(key):\n",
        "    for j in range(i,len(text),k):\n",
        "      cipher_txt+=text[j]\n",
        "      # print(cipher_txt)\n",
        "    k=k-2\n",
        "    if(k==0):\n",
        "     k=2*(key-1)\n",
        "\n",
        "  print(cipher_txt)\n",
        "encrypt(\"gayathri\",3)"
      ]
    },
    {
      "cell_type": "code",
      "execution_count": null,
      "metadata": {
        "id": "EF6GvRYOmzVr"
      },
      "outputs": [],
      "source": []
    }
  ],
  "metadata": {
    "colab": {
      "provenance": []
    },
    "kernelspec": {
      "display_name": "Python 3",
      "name": "python3"
    },
    "language_info": {
      "codemirror_mode": {
        "name": "ipython",
        "version": 3
      },
      "file_extension": ".py",
      "mimetype": "text/x-python",
      "name": "python",
      "nbconvert_exporter": "python",
      "pygments_lexer": "ipython3",
      "version": "3.11.0"
    }
  },
  "nbformat": 4,
  "nbformat_minor": 0
}
