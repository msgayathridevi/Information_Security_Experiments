{
 "cells": [
  {
   "cell_type": "code",
   "execution_count": null,
   "metadata": {},
   "outputs": [],
   "source": [
    "# !pip install pycryptodome\n",
    "# !pip install pycrypto\n",
    "\n",
    "# !pip install cryptography"
   ]
  },
  {
   "cell_type": "code",
   "execution_count": null,
   "metadata": {},
   "outputs": [],
   "source": [
    "from Crypto.Cipher import AES\n",
    "\n",
    "def aes(pt, key):\n",
    "    key = key.encode(\"ASCII\")\n",
    "\n",
    "    cipher = AES.new(key,AES.MODE_EAX)\n",
    "    pt = pt.encode()\n",
    "\n",
    "    ct = cipher.encrypt(pt)\n",
    "    nonce = cipher.nonce\n",
    "\n",
    "    decrypt = AES.new(key,AES.MODE_EAX,nonce=nonce)\n",
    "    dt = decrypt.decrypt(ct)\n",
    "\n",
    "    return ct,dt"
   ]
  },
  {
   "cell_type": "code",
   "execution_count": null,
   "metadata": {},
   "outputs": [],
   "source": [
    "\n",
    "pt = input(\"Enter the text : \")\n",
    "key = input(\"Enter the key (16 bits) : \")\n",
    "a,b = aes(pt, key)\n",
    "\n",
    "print(\"Encryption\")\n",
    "print(\"cipher text : \", a)\n",
    "\n",
    "print(\"----------------\")\n",
    "\n",
    "print(\"Decryption\")\n",
    "print(\"plain text : \", b)"
   ]
  },
  {
   "cell_type": "code",
   "execution_count": null,
   "metadata": {},
   "outputs": [],
   "source": []
  }
 ],
 "metadata": {
  "kernelspec": {
   "display_name": "Python 3",
   "language": "python",
   "name": "python3"
  },
  "language_info": {
   "codemirror_mode": {
    "name": "ipython",
    "version": 3
   },
   "file_extension": ".py",
   "mimetype": "text/x-python",
   "name": "python",
   "nbconvert_exporter": "python",
   "pygments_lexer": "ipython3",
   "version": "3.11.0"
  },
  "orig_nbformat": 4
 },
 "nbformat": 4,
 "nbformat_minor": 2
}
