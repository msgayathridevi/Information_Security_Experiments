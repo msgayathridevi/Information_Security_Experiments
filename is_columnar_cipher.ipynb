{
 "cells": [
  {
   "cell_type": "code",
   "execution_count": 2,
   "metadata": {},
   "outputs": [],
   "source": [
    "import math\n",
    "  \n",
    "# Encryption\n",
    "def encryptMessage(msg, key):\n",
    "    cipher = \"\"\n",
    "    msg_lst = list(msg)\n",
    "    key_lst = sorted(list(key))\n",
    "\n",
    "    k_indx = 0\n",
    "    msg_len = float(len(msg))\n",
    "    col = len(key)\n",
    "    row = int(math.ceil(msg_len / col))\n",
    "\n",
    "    fill_null = int((row * col) - msg_len)\n",
    "    msg_lst.extend('_' * fill_null)\n",
    "    \n",
    "    matrix = [msg_lst[i: i + col] for i in range(0, len(msg_lst), col)] # rowise padding\n",
    "  \n",
    "    for _ in range(col):\n",
    "        curr_idx = key.index(key_lst[k_indx])\n",
    "        cipher += ''.join([row[curr_idx] for row in matrix])\n",
    "        k_indx += 1\n",
    "  \n",
    "    return cipher"
   ]
  },
  {
   "cell_type": "code",
   "execution_count": 3,
   "metadata": {},
   "outputs": [],
   "source": [
    "# Decryption\n",
    "def decryptMessage(cipher, key):\n",
    "    msg = \"\"\n",
    "    k_indx = 0\n",
    "    msg_indx = 0\n",
    "\n",
    "    msg_len = float(len(cipher))\n",
    "    msg_lst = list(cipher)\n",
    "    key_lst = sorted(list(key))\n",
    "\n",
    "    col = len(key)\n",
    "    row = int(math.ceil(msg_len / col))\n",
    "\n",
    "    dec_cipher = []\n",
    "    for _ in range(row):\n",
    "        dec_cipher += [[None] * col]\n",
    "        \n",
    "    for _ in range(col):\n",
    "        curr_idx = key.index(key_lst[k_indx])\n",
    "  \n",
    "        for j in range(row):\n",
    "            dec_cipher[j][curr_idx] = msg_lst[msg_indx]\n",
    "            msg_indx += 1\n",
    "        k_indx += 1\n",
    "    try:\n",
    "        msg = ''.join(sum(dec_cipher, []))\n",
    "    except TypeError:\n",
    "        raise TypeError(\"This program cannot handle repeating words.\")\n",
    "  \n",
    "    null_count = msg.count('_')\n",
    "    if null_count > 0:\n",
    "        return msg[: -null_count]\n",
    "    return msg"
   ]
  },
  {
   "cell_type": "code",
   "execution_count": 4,
   "metadata": {},
   "outputs": [
    {
     "name": "stdout",
     "output_type": "stream",
     "text": [
      "Encrypted Message: e  kefGsGsrekoe_\n",
      "Decryped Message: Geeks for Geeks\n"
     ]
    }
   ],
   "source": [
    "# Driver Code\n",
    "msg = \"Geeks for Geeks\"\n",
    "key = \"HACK\"\n",
    "    \n",
    "cipher = encryptMessage(msg, key)\n",
    "print(\"Encrypted Message: {}\".  format(cipher))\n",
    "  \n",
    "print(\"Decryped Message: {}\".format(decryptMessage(cipher, key)))\n",
    "  "
   ]
  },
  {
   "cell_type": "code",
   "execution_count": null,
   "metadata": {},
   "outputs": [],
   "source": []
  }
 ],
 "metadata": {
  "kernelspec": {
   "display_name": "Python 3",
   "language": "python",
   "name": "python3"
  },
  "language_info": {
   "codemirror_mode": {
    "name": "ipython",
    "version": 3
   },
   "file_extension": ".py",
   "mimetype": "text/x-python",
   "name": "python",
   "nbconvert_exporter": "python",
   "pygments_lexer": "ipython3",
   "version": "3.11.0"
  },
  "orig_nbformat": 4
 },
 "nbformat": 4,
 "nbformat_minor": 2
}
