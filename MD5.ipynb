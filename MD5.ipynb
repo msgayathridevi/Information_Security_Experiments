{
  "cells": [
    {
      "cell_type": "code",
      "execution_count": 1,
      "metadata": {
        "id": "U2KtJJfb0vwa"
      },
      "outputs": [],
      "source": [
        "# Message Digest 5\n",
        "import hashlib"
      ]
    },
    {
      "cell_type": "code",
      "execution_count": 5,
      "metadata": {
        "colab": {
          "base_uri": "https://localhost:8080/"
        },
        "id": "y3MLZZDY1CVB",
        "outputId": "feb7ab79-c14c-420a-c86f-1561c9de3a44"
      },
      "outputs": [
        {
          "name": "stdout",
          "output_type": "stream",
          "text": [
            "The byte equivalent of hash is : b'\\x90G\\x8c\\xbe\\xb0\\x14\\x96\\xdc\\x00)nlyB\\xb2c'\n",
            "\n",
            " 90478cbeb01496dc00296e6c7942b263\n",
            "The hexadecimal equivalent of hash is : f75e6f1015695bb864bac8a0acbc7bc6\n"
          ]
        }
      ],
      "source": [
        "result = hashlib.md5(b'gayathridevi')\n",
        "print(\"The byte equivalent of hash is : \", end=\"\")\n",
        "print(result.digest())\n",
        "print(\"\\n\",result.hexdigest())\n",
        "\n",
        "str = input(\"Enter the plain text : \")\n",
        "result= hashlib.md5(str.encode())\n",
        "print(\"The hexadecimal equivalent of hash is : \", end =\"\")\n",
        "print(result.hexdigest())"
      ]
    },
    {
      "cell_type": "code",
      "execution_count": null,
      "metadata": {},
      "outputs": [],
      "source": []
    },
    {
      "cell_type": "code",
      "execution_count": null,
      "metadata": {},
      "outputs": [],
      "source": []
    }
  ],
  "metadata": {
    "colab": {
      "provenance": []
    },
    "kernelspec": {
      "display_name": "Python 3",
      "name": "python3"
    },
    "language_info": {
      "codemirror_mode": {
        "name": "ipython",
        "version": 3
      },
      "file_extension": ".py",
      "mimetype": "text/x-python",
      "name": "python",
      "nbconvert_exporter": "python",
      "pygments_lexer": "ipython3",
      "version": "3.11.0"
    }
  },
  "nbformat": 4,
  "nbformat_minor": 0
}
