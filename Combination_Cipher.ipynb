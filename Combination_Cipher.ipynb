{
 "cells": [
  {
   "cell_type": "code",
   "execution_count": 1,
   "metadata": {},
   "outputs": [],
   "source": [
    "def combinations_cipher(message, key):\n",
    "    message = message.lower()\n",
    "    message = ''.join(c for c in message if c.isalpha())\n",
    "\n",
    "    encrypted_message = ''\n",
    "    for i in range(0, len(message), key):\n",
    "        encrypted_message += message[i:i+key][::-1]\n",
    "    return encrypted_message"
   ]
  },
  {
   "cell_type": "code",
   "execution_count": 2,
   "metadata": {},
   "outputs": [],
   "source": [
    "def combinations_decipher(encrypted_message, key):\n",
    "    decrypted_message = ''\n",
    "    for i in range(0, len(encrypted_message), key):\n",
    "        decrypted_message += encrypted_message[i:i+key][::-1]\n",
    "    return decrypted_message"
   ]
  },
  {
   "cell_type": "code",
   "execution_count": 3,
   "metadata": {},
   "outputs": [
    {
     "name": "stdout",
     "output_type": "stream",
     "text": [
      "Encrypted message: htayagivedir\n",
      "Decrypted message: gayathridevi\n"
     ]
    }
   ],
   "source": [
    "message = input(\"Enter the message: \")\n",
    "key = int(input(\"Enter the key: \"))\n",
    "\n",
    "# Encrypt the message\n",
    "encrypted_message = combinations_cipher(message, key)\n",
    "print(\"Encrypted message:\", encrypted_message)\n",
    "\n",
    "# Decrypt the message\n",
    "decrypted_message = combinations_decipher(encrypted_message, key)\n",
    "print(\"Decrypted message:\", decrypted_message)"
   ]
  },
  {
   "cell_type": "code",
   "execution_count": null,
   "metadata": {},
   "outputs": [],
   "source": []
  }
 ],
 "metadata": {
  "kernelspec": {
   "display_name": "Python 3",
   "language": "python",
   "name": "python3"
  },
  "language_info": {
   "codemirror_mode": {
    "name": "ipython",
    "version": 3
   },
   "file_extension": ".py",
   "mimetype": "text/x-python",
   "name": "python",
   "nbconvert_exporter": "python",
   "pygments_lexer": "ipython3",
   "version": "3.11.0"
  },
  "orig_nbformat": 4
 },
 "nbformat": 4,
 "nbformat_minor": 2
}
