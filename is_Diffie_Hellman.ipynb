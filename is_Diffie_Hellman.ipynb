{
  "cells": [
    {
      "cell_type": "code",
      "execution_count": 4,
      "metadata": {
        "colab": {
          "base_uri": "https://localhost:8080/"
        },
        "id": "8-IKudhXejKz",
        "outputId": "8b879d24-02e2-42b6-9ba5-36053affed79"
      },
      "outputs": [
        {
          "name": "stdout",
          "output_type": "stream",
          "text": [
            "The Value of P is :  23\n",
            "The Value of G is : 9\n",
            "\n",
            "The Private Key a for Alice is : 5\n",
            "The Private Key b for Bob is :8\n",
            "\n",
            "The result of Algorithm is \n",
            "\n",
            "Secret key for the Alice is : 4\n",
            "Secret Key for the Bob is : 4\n"
          ]
        }
      ],
      "source": [
        "from random import randint\n",
        "\n",
        "P = int(input(\"Enter the value of P: \"))\n",
        "G = int(input(\"Enter the value of G: \"))\n",
        "\n",
        "print('The Value of P is : ', P)\n",
        "print('The Value of G is : %d\\n'%(G))\n",
        "\n",
        "a = int(input(\"Enter the value of a: \"))\n",
        "print('The Private Key a for Alice is : %d'%(a))\n",
        "\n",
        "b = int(input(\"Enter the value of b: \"))\n",
        "print('The Private Key b for Bob is :%d\\n'%(b))\n",
        "\n",
        "x = int(pow(G,a,P))\n",
        "y = int(pow(G,b,P))\n",
        "\n",
        "print(\"The result of Algorithm is \\n\")\n",
        "\n",
        "# Secret key for Alice\n",
        "ka = int(pow(y,a,P))\n",
        "kb = int(pow(x,b,P))\n",
        "\n",
        "print('Secret key for the Alice is : %d'%(ka))\n",
        "print('Secret Key for the Bob is : %d'%(kb))\n",
        "\n",
        "# 23 9 5 8"
      ]
    },
    {
      "cell_type": "code",
      "execution_count": null,
      "metadata": {},
      "outputs": [],
      "source": []
    }
  ],
  "metadata": {
    "colab": {
      "provenance": []
    },
    "kernelspec": {
      "display_name": "Python 3",
      "name": "python3"
    },
    "language_info": {
      "codemirror_mode": {
        "name": "ipython",
        "version": 3
      },
      "file_extension": ".py",
      "mimetype": "text/x-python",
      "name": "python",
      "nbconvert_exporter": "python",
      "pygments_lexer": "ipython3",
      "version": "3.11.0"
    }
  },
  "nbformat": 4,
  "nbformat_minor": 0
}
