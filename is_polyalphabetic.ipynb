{
  "cells": [
    {
      "cell_type": "code",
      "execution_count": 1,
      "metadata": {
        "colab": {
          "base_uri": "https://localhost:8080/"
        },
        "id": "31iQzQkgt7bC",
        "outputId": "2124d73e-2ec1-40ca-d776-05f95749042e"
      },
      "outputs": [],
      "source": [
        "stri=input(\"Plain Text : \").upper()\n",
        "key=input(\"Key : \").upper()"
      ]
    },
    {
      "cell_type": "code",
      "execution_count": 2,
      "metadata": {
        "id": "vUMpQr0JuK6_"
      },
      "outputs": [],
      "source": [
        "# iterate/loop till len(key) = len(stri)\n",
        "def genkey(stri,key): \n",
        "  for i in range(len(stri)):\n",
        "    if(len(key)==len(stri)):\n",
        "      break;\n",
        "    key+=key[i]\n",
        "  return key"
      ]
    },
    {
      "cell_type": "code",
      "execution_count": 3,
      "metadata": {
        "id": "z6Shf0byul7h"
      },
      "outputs": [],
      "source": [
        "dum='A'\n",
        "def encrypt(stri,key):\n",
        "  cipher_text=\"\"\n",
        "  for i in range(len(stri)):\n",
        "    x=(ord(stri[i])+ord(key[i])) %26\n",
        "    x+=ord(dum)\n",
        "    cipher_text+=(chr)(x);\n",
        "  return cipher_text\n"
      ]
    },
    {
      "cell_type": "code",
      "execution_count": 4,
      "metadata": {
        "id": "N0qNmmMevZYB"
      },
      "outputs": [],
      "source": [
        "dum='A'\n",
        "def decrypt(cipher_text,key):\n",
        "  plain_text=\"\"\n",
        "  i=0\n",
        "  while i<len(cipher_text) and i<len(key):\n",
        "    x= (ord(cipher_text[i])-ord(key[i]) +26) % 26\n",
        "    x+=ord(dum)\n",
        "    plain_text+=(chr)(x)\n",
        "    i=i+1\n",
        "  return plain_text\n"
      ]
    },
    {
      "cell_type": "code",
      "execution_count": 5,
      "metadata": {
        "colab": {
          "base_uri": "https://localhost:8080/"
        },
        "id": "pm9ulu4Bxwp6",
        "outputId": "e2f46432-4e9e-4fd4-df5c-af0f21670c76"
      },
      "outputs": [
        {
          "name": "stdout",
          "output_type": "stream",
          "text": [
            "DEVIDEVI\n",
            "Cipher :  JETIWLMQ\n",
            "----------------\n",
            "Decryption \n",
            "Plain Text :  GAYATHRI\n"
          ]
        }
      ],
      "source": [
        "  key=genkey(stri,key)\n",
        "  print(key)\n",
        "  cipher=encrypt(stri,key)\n",
        "  print(\"Cipher : \",cipher)\n",
        "  print(\"----------------\")\n",
        "  print(\"Decryption \")\n",
        "  print(\"Plain Text : \",decrypt(cipher,key))"
      ]
    },
    {
      "cell_type": "code",
      "execution_count": null,
      "metadata": {
        "id": "k8pPDyZ61UuM"
      },
      "outputs": [],
      "source": []
    }
  ],
  "metadata": {
    "colab": {
      "provenance": []
    },
    "kernelspec": {
      "display_name": "Python 3",
      "name": "python3"
    },
    "language_info": {
      "codemirror_mode": {
        "name": "ipython",
        "version": 3
      },
      "file_extension": ".py",
      "mimetype": "text/x-python",
      "name": "python",
      "nbconvert_exporter": "python",
      "pygments_lexer": "ipython3",
      "version": "3.11.0"
    }
  },
  "nbformat": 4,
  "nbformat_minor": 0
}
