{
  "cells": [
    {
      "cell_type": "code",
      "execution_count": 1,
      "metadata": {
        "id": "cUI4H9M94uve"
      },
      "outputs": [],
      "source": [
        "import hashlib"
      ]
    },
    {
      "cell_type": "code",
      "execution_count": 6,
      "metadata": {
        "id": "G1D5y5dw5Cj2"
      },
      "outputs": [
        {
          "name": "stdout",
          "output_type": "stream",
          "text": [
            "{'sha512_224', 'md5-sha1', 'sha512', 'sha3_384', 'sha256', 'sha384', 'md4', 'shake_256', 'blake2b', 'whirlpool', 'md5', 'sha3_224', 'blake2s', 'sha3_256', 'ripemd160', 'mdc2', 'sha3_512', 'sha224', 'sha512_256', 'sm3', 'shake_128', 'sha1'}\n"
          ]
        }
      ],
      "source": [
        "print(hashlib.algorithms_available)\n",
        "print(hashlib.algorithms_guaranteed)"
      ]
    },
    {
      "cell_type": "code",
      "execution_count": 3,
      "metadata": {
        "colab": {
          "base_uri": "https://localhost:8080/"
        },
        "id": "3xBFMcfc5M3-",
        "outputId": "59cd448f-e713-43e6-b052-b0830c4de817"
      },
      "outputs": [
        {
          "name": "stdout",
          "output_type": "stream",
          "text": [
            "The hexadecimal equivalent of SHA256 is : \n",
            "28bfbc5460a8bb45d56e5ce87449b86b2c11f3a74e868a0a779cc6f6a58d26cd\n",
            "\n",
            "The hexadecimal equivalent of SHA384 is : \n",
            "5fe39e8a56d9e794adea902cbbdd9982e59fdca9d0eabdb92a64085fb4d81798887d847f8987bd95fadbf44225479711\n",
            "\n",
            "The hexadecimal equivalent of SHA224 is : \n",
            "5900c4705045b9c7808c79127bdaee4a93faa4c66e5184a80fc008a5\n",
            "\n",
            "The hexadecimal equivalent of SHA512 is : \n",
            "5ef1a6606ceb2083e38cfc6f9dd777ed4ccf85799c67e764b2af3982046d8a697cc258f476ce492c774e50c25ca0a09281ba96d9712251b9dc5870d0f8e755e2\n",
            "\n",
            "The hexadecimal equivalent of SHA1 is : \n",
            "079bd7b35edf12d738d3b6e6cface8c5eaf20d75\n"
          ]
        }
      ],
      "source": [
        "str = input(\"Enter the text : \")\n",
        "\n",
        "result = hashlib.sha256(str.encode())\n",
        "print(\"The hexadecimal equivalent of SHA256 is : \")\n",
        "print(result.hexdigest())\n",
        "\n",
        "print (\"\\r\")\n",
        "\n",
        "result = hashlib.sha384(str.encode())\n",
        "print(\"The hexadecimal equivalent of SHA384 is : \")\n",
        "print(result.hexdigest())\n",
        "\n",
        "print (\"\\r\")\n",
        "\n",
        "result = hashlib.sha224(str.encode())\n",
        "print(\"The hexadecimal equivalent of SHA224 is : \")\n",
        "print(result.hexdigest())\n",
        "\n",
        "print (\"\\r\")\n",
        "\n",
        "result = hashlib.sha512(str.encode())\n",
        "print(\"The hexadecimal equivalent of SHA512 is : \")\n",
        "print(result.hexdigest())\n",
        "\n",
        "print (\"\\r\")\n",
        "\n",
        "result = hashlib.sha1(str.encode())\n",
        "print(\"The hexadecimal equivalent of SHA1 is : \")\n",
        "print(result.hexdigest())\n"
      ]
    },
    {
      "cell_type": "code",
      "execution_count": null,
      "metadata": {
        "id": "To0izys95NBe"
      },
      "outputs": [],
      "source": []
    }
  ],
  "metadata": {
    "colab": {
      "provenance": []
    },
    "kernelspec": {
      "display_name": "Python 3",
      "name": "python3"
    },
    "language_info": {
      "name": "python"
    }
  },
  "nbformat": 4,
  "nbformat_minor": 0
}
