{
 "cells": [
  {
   "cell_type": "markdown",
   "metadata": {},
   "source": [
    "## aka Row Column Cypher"
   ]
  },
  {
   "cell_type": "code",
   "execution_count": 1,
   "metadata": {},
   "outputs": [],
   "source": [
    "import math\n",
    "  \n",
    "# Encryption\n",
    "def encryptMessage(msg, key):\n",
    "    cipher = \"\"\n",
    "    msg_lst = list(msg)\n",
    "    key_lst = sorted(list(key))\n",
    "\n",
    "    k_indx = 0\n",
    "    msg_len = float(len(msg))\n",
    "    col = len(key)\n",
    "    row = int(math.ceil(msg_len / col))\n",
    "\n",
    "    fill_null = int((row * col) - msg_len)\n",
    "    msg_lst.extend('_' * fill_null)\n",
    "    \n",
    "    matrix = [msg_lst[i: i + col] for i in range(0, len(msg_lst), col)] # rowise padding\n",
    "  \n",
    "    for _ in range(col):\n",
    "        curr_idx = key.index(key_lst[k_indx])\n",
    "        cipher += ''.join([row[curr_idx] for row in matrix])\n",
    "        k_indx += 1\n",
    "  \n",
    "    return cipher"
   ]
  },
  {
   "cell_type": "code",
   "execution_count": 2,
   "metadata": {},
   "outputs": [],
   "source": [
    "# Decryption\n",
    "def decryptMessage(cipher, key):\n",
    "    msg = \"\"\n",
    "    k_indx = 0\n",
    "    msg_indx = 0\n",
    "\n",
    "    msg_len = float(len(cipher))\n",
    "    msg_lst = list(cipher)\n",
    "    key_lst = sorted(list(key))\n",
    "\n",
    "    col = len(key)\n",
    "    row = int(math.ceil(msg_len / col))\n",
    "\n",
    "    dec_cipher = []\n",
    "    for _ in range(row):\n",
    "        dec_cipher += [[None] * col]\n",
    "        \n",
    "    for _ in range(col):\n",
    "        curr_idx = key.index(key_lst[k_indx])\n",
    "  \n",
    "        for j in range(row):\n",
    "            dec_cipher[j][curr_idx] = msg_lst[msg_indx]\n",
    "            msg_indx += 1\n",
    "        k_indx += 1\n",
    "    try:\n",
    "        msg = ''.join(sum(dec_cipher, []))\n",
    "    except TypeError:\n",
    "        raise TypeError(\"This program cannot handle repeating words.\")\n",
    "  \n",
    "    null_count = msg.count('_')\n",
    "    if null_count > 0:\n",
    "        return msg[: -null_count]\n",
    "    return msg"
   ]
  },
  {
   "cell_type": "code",
   "execution_count": 3,
   "metadata": {},
   "outputs": [
    {
     "name": "stdout",
     "output_type": "stream",
     "text": [
      "Encrypted Message: ai_y _te_aD_Grihv_\n",
      "Decryped Message: Gayathri Devi\n"
     ]
    }
   ],
   "source": [
    "# Driver Code\n",
    "msg = \"Gayathri Devi\"\n",
    "key = \"RADHEV\"\n",
    "    \n",
    "cipher = encryptMessage(msg, key)\n",
    "print(\"Encrypted Message: {}\".  format(cipher))\n",
    "  \n",
    "print(\"Decryped Message: {}\".format(decryptMessage(cipher, key)))\n",
    "  "
   ]
  },
  {
   "cell_type": "code",
   "execution_count": 4,
   "metadata": {},
   "outputs": [],
   "source": [
    "# method 2\n",
    "# %pip install numpy"
   ]
  },
  {
   "cell_type": "code",
   "execution_count": 5,
   "metadata": {},
   "outputs": [],
   "source": [
    "import numpy as np\n",
    "def encrypt(text):\n",
    "    encrypted_text = []\n",
    "    ls = [c for c in key] + [l for l in text]\n",
    "    rem = np.remainder(len(text), len(key))\n",
    "    if rem != 0:\n",
    "        ls.extend('q' * (len(key) - rem)) #appending list for proper length\n",
    "    for i in range(1, len(key)+1):\n",
    "        index = ls.index(str(i)) + len(key)\n",
    "        encrypted_text += [ls[c] for c in range(index, len(ls), len(key))] #adding column values\n",
    "    return \"\".join(encrypted_text)"
   ]
  },
  {
   "cell_type": "code",
   "execution_count": 6,
   "metadata": {},
   "outputs": [],
   "source": [
    "def decrypt(text):\n",
    "    temp = dict()\n",
    "    x = 0\n",
    "    decrypted_text = ''\n",
    "    column_size = int(len(text) / len(key))\n",
    "    for i in range(1, len(key)+1):\n",
    "        temp.__setitem__(i, text[x: x+column_size]) #converting to a dictionary\n",
    "        x += column_size\n",
    "    for i in range(column_size):\n",
    "        for c in key:\n",
    "            decrypted_text += temp.get(int(c))[i]\n",
    "    return decrypted_text.strip('q')"
   ]
  },
  {
   "cell_type": "code",
   "execution_count": 7,
   "metadata": {},
   "outputs": [
    {
     "name": "stdout",
     "output_type": "stream",
     "text": [
      "Encrypted text: deviqqqqq\n",
      "Decrypted text: devi\n"
     ]
    }
   ],
   "source": [
    "key = input(\"Enter key (in digits): \")\n",
    "plaintext = input(\"Enter text: \")\n",
    "cipher_text = encrypt(plaintext)\n",
    "print(\"Encrypted text: \" + cipher_text)\n",
    "print(\"Decrypted text: \" + decrypt(cipher_text))"
   ]
  },
  {
   "cell_type": "code",
   "execution_count": null,
   "metadata": {},
   "outputs": [],
   "source": []
  }
 ],
 "metadata": {
  "kernelspec": {
   "display_name": "Python 3",
   "language": "python",
   "name": "python3"
  },
  "language_info": {
   "codemirror_mode": {
    "name": "ipython",
    "version": 3
   },
   "file_extension": ".py",
   "mimetype": "text/x-python",
   "name": "python",
   "nbconvert_exporter": "python",
   "pygments_lexer": "ipython3",
   "version": "3.11.0"
  },
  "orig_nbformat": 4
 },
 "nbformat": 4,
 "nbformat_minor": 2
}
