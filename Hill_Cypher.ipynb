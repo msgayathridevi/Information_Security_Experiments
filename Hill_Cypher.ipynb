{
 "cells": [
  {
   "cell_type": "code",
   "execution_count": 1,
   "metadata": {},
   "outputs": [],
   "source": [
    "keyMatrix = [[0] * 3 for i in range(3)]\n",
    "messageVector = [[0] for i in range(3)]\n",
    "cipherMatrix = [[0] for i in range(3)]\n",
    "\n",
    "def getKeyMatrix(key):\n",
    "    k = 0\n",
    "    for i in range(3):\n",
    "        for j in range(3):\n",
    "            keyMatrix[i][j] = ord(key[k]) % 65\n",
    "            k += 1\n",
    "\n",
    "def encrypt(messageVector):\n",
    "    for i in range(3):\n",
    "        for j in range(1):\n",
    "            cipherMatrix[i][j] = 0\n",
    "            for x in range(3):\n",
    "                cipherMatrix[i][j] += (keyMatrix[i][x] * messageVector[x][j])\n",
    "            cipherMatrix[i][j] = cipherMatrix[i][j] % 26\n"
   ]
  },
  {
   "cell_type": "code",
   "execution_count": 2,
   "metadata": {},
   "outputs": [],
   "source": [
    "def HillCipher(message, key):\n",
    "    getKeyMatrix(key)\n",
    "    for i in range(3):\n",
    "        messageVector[i][0] = ord(message[i]) % 65\n",
    "    encrypt(messageVector)\n",
    "    \n",
    "    CipherText = []\n",
    "    for i in range(3):\n",
    "        CipherText.append(chr(cipherMatrix[i][0] + 65))\n",
    "    print(\"Ciphertext:\", \"\".join(CipherText))"
   ]
  },
  {
   "cell_type": "code",
   "execution_count": 3,
   "metadata": {},
   "outputs": [
    {
     "name": "stdout",
     "output_type": "stream",
     "text": [
      "Ciphertext: CGJ\n"
     ]
    }
   ],
   "source": [
    "message = input(\"Enter the message (3 uppercase letters): \")  \n",
    "key = input(\"Enter the key (9 uppercase letters): \")  \n",
    "HillCipher(message, key)"
   ]
  },
  {
   "cell_type": "markdown",
   "metadata": {},
   "source": []
  },
  {
   "cell_type": "code",
   "execution_count": null,
   "metadata": {},
   "outputs": [],
   "source": []
  }
 ],
 "metadata": {
  "kernelspec": {
   "display_name": "Python 3",
   "language": "python",
   "name": "python3"
  },
  "language_info": {
   "codemirror_mode": {
    "name": "ipython",
    "version": 3
   },
   "file_extension": ".py",
   "mimetype": "text/x-python",
   "name": "python",
   "nbconvert_exporter": "python",
   "pygments_lexer": "ipython3",
   "version": "3.11.0"
  },
  "orig_nbformat": 4
 },
 "nbformat": 4,
 "nbformat_minor": 2
}
