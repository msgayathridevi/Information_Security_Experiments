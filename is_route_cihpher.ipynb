{
  "cells": [
    {
      "cell_type": "code",
      "execution_count": 4,
      "metadata": {
        "id": "jOsmbH2EWMEc"
      },
      "outputs": [],
      "source": [
        "def route_cipher(message, rows, cols):\n",
        "    message += ' ' * (rows * cols - len(message))\n",
        "    grid = [[' ' for _ in range(cols)] for _ in range(rows)]\n",
        "    for r in range(rows):\n",
        "        for c in range(cols):\n",
        "            grid[r][c] = message[r * cols + c]\n",
        "    ciphertext = ''\n",
        "    for c in range(cols):\n",
        "        for r in range(rows):\n",
        "            ciphertext += grid[r][c]\n",
        "\n",
        "    return ciphertext\n",
        "  \n",
        "\n",
        "def route_cipher_decrypt(ciphertext, rows, cols):\n",
        "    grid = [[' ' for _ in range(cols)] for _ in range(rows)]\n",
        "    i = 0\n",
        "    for c in range(cols):\n",
        "        for r in range(rows):\n",
        "            grid[r][c] = ciphertext[i]\n",
        "            i += 1\n",
        "    plaintext = ''\n",
        "    for r in range(rows):\n",
        "        for c in range(cols):\n",
        "            plaintext += grid[r][c]\n",
        "\n",
        "    return plaintext.strip()\n"
      ]
    },
    {
      "cell_type": "code",
      "execution_count": 5,
      "metadata": {
        "colab": {
          "base_uri": "https://localhost:8080/"
        },
        "id": "59L5rn-4W8mN",
        "outputId": "d16fef7c-530b-408e-8542-fa30fe817840"
      },
      "outputs": [
        {
          "name": "stdout",
          "output_type": "stream",
          "text": [
            "Cipher Text :  gareativyhdi\n"
          ]
        }
      ],
      "source": [
        "message = 'gayathridevi'\n",
        "ciphertext = route_cipher(message, 4, 3)\n",
        "print(\"Cipher Text : \", ciphertext)  "
      ]
    },
    {
      "cell_type": "code",
      "execution_count": 6,
      "metadata": {
        "colab": {
          "base_uri": "https://localhost:8080/"
        },
        "id": "ZKOOgsjvW9P3",
        "outputId": "87401a8c-5d1d-4b36-a47f-1c51fcef4355"
      },
      "outputs": [
        {
          "name": "stdout",
          "output_type": "stream",
          "text": [
            "Plain Text :  gayathridevi\n"
          ]
        }
      ],
      "source": [
        "print(\"Plain Text : \",route_cipher_decrypt(\"gareativyhdi\",4,3))"
      ]
    },
    {
      "cell_type": "code",
      "execution_count": null,
      "metadata": {
        "id": "F6JVNKgVYKBW"
      },
      "outputs": [],
      "source": []
    }
  ],
  "metadata": {
    "colab": {
      "provenance": []
    },
    "kernelspec": {
      "display_name": "Python 3",
      "name": "python3"
    },
    "language_info": {
      "codemirror_mode": {
        "name": "ipython",
        "version": 3
      },
      "file_extension": ".py",
      "mimetype": "text/x-python",
      "name": "python",
      "nbconvert_exporter": "python",
      "pygments_lexer": "ipython3",
      "version": "3.11.0"
    }
  },
  "nbformat": 4,
  "nbformat_minor": 0
}
